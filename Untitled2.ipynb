{
 "cells": [
  {
   "cell_type": "code",
   "execution_count": 1,
   "metadata": {},
   "outputs": [],
   "source": [
    "import pandas as pd"
   ]
  },
  {
   "cell_type": "code",
   "execution_count": 2,
   "metadata": {},
   "outputs": [],
   "source": [
    "hemisphere_image_urls =[]"
   ]
  },
  {
   "cell_type": "code",
   "execution_count": 5,
   "metadata": {},
   "outputs": [
    {
     "ename": "SyntaxError",
     "evalue": "invalid syntax (<ipython-input-5-6b61e4dbbfe6>, line 2)",
     "output_type": "error",
     "traceback": [
      "\u001b[1;36m  File \u001b[1;32m\"<ipython-input-5-6b61e4dbbfe6>\"\u001b[1;36m, line \u001b[1;32m2\u001b[0m\n\u001b[1;33m    Cerebrus_Hem={img_url:\"https://astropedia.astrogeology.usgs.gov/download/Mars/Viking/cerberus_enhanced.tif/full.jpg\",title:\"Cerebrus Hemisphere\"},\u001b[0m\n\u001b[1;37m                ^\u001b[0m\n\u001b[1;31mSyntaxError\u001b[0m\u001b[1;31m:\u001b[0m invalid syntax\n"
     ]
    }
   ],
   "source": [
    "hemisphere_image_url= [\n",
    "Cerebrus_Hem={img_url:\"https://astropedia.astrogeology.usgs.gov/download/Mars/Viking/cerberus_enhanced.tif/full.jpg\",title:\"Cerebrus Hemisphere\"},\n",
    "Schiaparelli_Hem={img_url:\"https://astropedia.astrogeology.usgs.gov/download/Mars/Viking/schiaparelli_enhanced.tif/full.jpg\",title:\"Schiaparelli Hemisphere\"},\n",
    "Syrtis_Major_Hem={img_url:\"https://astropedia.astrogeology.usgs.gov/download/Mars/Viking/syrtis_major_enhanced.tif/full.jpg\",title:\"Syrtis Major Hemisphere\"},\n",
    "Valles_Marineris_Hem={img_url:\"https://astropedia.astrogeology.usgs.gov/download/Mars/Viking/valles_marineris_enhanced.tif/full.jpg\",title:\"Valles Marineris Hemisphere\"}\n",
    "]"
   ]
  },
  {
   "cell_type": "code",
   "execution_count": null,
   "metadata": {},
   "outputs": [],
   "source": [
    "# # initializing dictionary \n",
    "# test_dict = { \"Rash\" : [1, 3], \"Manjeet\" : [1, 4], \"Akash\" : [3, 4] } \n",
    "  \n",
    "# # printing original dictionary \n",
    "# print (\"The original dictionary is : \" + str(test_dict)) \n",
    "  \n",
    "# # using list comprehension \n",
    "# # to convert dictionary of list to  \n",
    "# # list of dictionaries \n",
    "# res = [{key : value[i] for key, value in test_dict.items()} \n",
    "#          for i in range(2)] "
   ]
  }
 ],
 "metadata": {
  "kernelspec": {
   "display_name": "Python 3",
   "language": "python",
   "name": "python3"
  },
  "language_info": {
   "codemirror_mode": {
    "name": "ipython",
    "version": 3
   },
   "file_extension": ".py",
   "mimetype": "text/x-python",
   "name": "python",
   "nbconvert_exporter": "python",
   "pygments_lexer": "ipython3",
   "version": "3.7.4"
  }
 },
 "nbformat": 4,
 "nbformat_minor": 2
}
